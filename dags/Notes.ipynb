{
 "cells": [
  {
   "attachments": {},
   "cell_type": "markdown",
   "metadata": {},
   "source": [
    "## Steps\n",
    "\n",
    "1. Load create_tables.sql into Redshift\n",
    "\n",
    "2. Set up a global s3ToRedshift operator that takes in an S3 bucket as input and inserts staging data in redshift\n",
    "    2. 1. Load logs data into events staging table\n",
    "    2. 2. Load song data into songs staging table\n",
    "\n",
    "3. Set up LoadFactsOperator to use the songplay_table_insert class variable to populate the songplay_table\n",
    "\n",
    "4. Repeat the above for LoadDimensionsOperator to populate the remaining 4 tables\n",
    "\n",
    "5. Create a data check opertaor\n",
    "\n",
    "6. Set up the task dependencies"
   ]
  }
 ],
 "metadata": {
  "kernelspec": {
   "display_name": "Python 3",
   "language": "python",
   "name": "python3"
  },
  "language_info": {
   "name": "python",
   "version": "3.10.4"
  },
  "orig_nbformat": 4,
  "vscode": {
   "interpreter": {
    "hash": "26de051ba29f2982a8de78e945f0abaf191376122a1563185a90213a26c5da77"
   }
  }
 },
 "nbformat": 4,
 "nbformat_minor": 2
}
